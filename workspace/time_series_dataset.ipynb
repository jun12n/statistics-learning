{
 "cells": [
  {
   "cell_type": "code",
   "execution_count": 1,
   "id": "131aa2ca-8c18-45d9-83cc-434fdce14913",
   "metadata": {},
   "outputs": [],
   "source": [
    "import math\n",
    "\n",
    "import matplotlib.pyplot as plt\n",
    "import numpy as np\n",
    "import pandas as pd\n",
    "from scipy import stats"
   ]
  },
  {
   "cell_type": "code",
   "execution_count": 2,
   "id": "7f4cbc9c-86ab-47d2-8355-d46be7c44e49",
   "metadata": {},
   "outputs": [],
   "source": [
    "df = pd.read_csv(\"./datasets/time-series_1m_from_20210101_to_20211201.csv\")"
   ]
  },
  {
   "cell_type": "code",
   "execution_count": 3,
   "id": "4b5b69eb-afbd-4c31-86be-d94fbbca962d",
   "metadata": {},
   "outputs": [
    {
     "data": {
      "text/html": [
       "<div>\n",
       "<style scoped>\n",
       "    .dataframe tbody tr th:only-of-type {\n",
       "        vertical-align: middle;\n",
       "    }\n",
       "\n",
       "    .dataframe tbody tr th {\n",
       "        vertical-align: top;\n",
       "    }\n",
       "\n",
       "    .dataframe thead th {\n",
       "        text-align: right;\n",
       "    }\n",
       "</style>\n",
       "<table border=\"1\" class=\"dataframe\">\n",
       "  <thead>\n",
       "    <tr style=\"text-align: right;\">\n",
       "      <th></th>\n",
       "      <th>open_time</th>\n",
       "      <th>open</th>\n",
       "      <th>high</th>\n",
       "      <th>low</th>\n",
       "      <th>close</th>\n",
       "      <th>volume</th>\n",
       "    </tr>\n",
       "  </thead>\n",
       "  <tbody>\n",
       "    <tr>\n",
       "      <th>0</th>\n",
       "      <td>2021-01-01 00:00:00</td>\n",
       "      <td>28921.5</td>\n",
       "      <td>28961.5</td>\n",
       "      <td>28921.5</td>\n",
       "      <td>28961.5</td>\n",
       "      <td>9.183402e+05</td>\n",
       "    </tr>\n",
       "    <tr>\n",
       "      <th>1</th>\n",
       "      <td>2021-01-01 00:01:00</td>\n",
       "      <td>28961.5</td>\n",
       "      <td>29008.0</td>\n",
       "      <td>28961.5</td>\n",
       "      <td>29008.0</td>\n",
       "      <td>1.028218e+06</td>\n",
       "    </tr>\n",
       "    <tr>\n",
       "      <th>2</th>\n",
       "      <td>2021-01-01 00:02:00</td>\n",
       "      <td>29008.0</td>\n",
       "      <td>29009.0</td>\n",
       "      <td>28984.0</td>\n",
       "      <td>28984.0</td>\n",
       "      <td>2.129165e+05</td>\n",
       "    </tr>\n",
       "    <tr>\n",
       "      <th>3</th>\n",
       "      <td>2021-01-01 00:03:00</td>\n",
       "      <td>28984.0</td>\n",
       "      <td>28984.5</td>\n",
       "      <td>28971.5</td>\n",
       "      <td>28980.5</td>\n",
       "      <td>2.430015e+05</td>\n",
       "    </tr>\n",
       "    <tr>\n",
       "      <th>4</th>\n",
       "      <td>2021-01-01 00:04:00</td>\n",
       "      <td>28980.5</td>\n",
       "      <td>28980.5</td>\n",
       "      <td>28980.0</td>\n",
       "      <td>28980.0</td>\n",
       "      <td>2.955960e+04</td>\n",
       "    </tr>\n",
       "  </tbody>\n",
       "</table>\n",
       "</div>"
      ],
      "text/plain": [
       "             open_time     open     high      low    close        volume\n",
       "0  2021-01-01 00:00:00  28921.5  28961.5  28921.5  28961.5  9.183402e+05\n",
       "1  2021-01-01 00:01:00  28961.5  29008.0  28961.5  29008.0  1.028218e+06\n",
       "2  2021-01-01 00:02:00  29008.0  29009.0  28984.0  28984.0  2.129165e+05\n",
       "3  2021-01-01 00:03:00  28984.0  28984.5  28971.5  28980.5  2.430015e+05\n",
       "4  2021-01-01 00:04:00  28980.5  28980.5  28980.0  28980.0  2.955960e+04"
      ]
     },
     "execution_count": 3,
     "metadata": {},
     "output_type": "execute_result"
    }
   ],
   "source": [
    "df.head()"
   ]
  },
  {
   "cell_type": "code",
   "execution_count": 4,
   "id": "099b6f02-e1b3-4ae8-b5a7-3e3cf8557aff",
   "metadata": {},
   "outputs": [],
   "source": [
    "close_values = df[\"close\"]"
   ]
  },
  {
   "cell_type": "code",
   "execution_count": 5,
   "id": "6146a261-0a0f-4d4a-ab80-9b043a3d434b",
   "metadata": {},
   "outputs": [
    {
     "data": {
      "text/plain": [
       "Text(0.5, 1.0, 'Histogram')"
      ]
     },
     "execution_count": 5,
     "metadata": {},
     "output_type": "execute_result"
    },
    {
     "data": {
      "image/png": "[encoded data removed]",
      "text/plain": [
       "<Figure size 432x288 with 1 Axes>"
      ]
     },
     "metadata": {
      "needs_background": "light"
     },
     "output_type": "display_data"
    }
   ],
   "source": [
    "hist, bins = np.histogram(close_values, 100)\n",
    "plt.hist(close_values, bins)\n",
    "plt.title(\"Histogram\")"
   ]
  },
  {
   "cell_type": "markdown",
   "id": "294f3f3e-b9e8-4edc-8dd0-f6a35984db2d",
   "metadata": {},
   "source": [
    "## 1つ前の値との差"
   ]
  },
  {
   "cell_type": "code",
   "execution_count": 6,
   "id": "86340f58-a708-4d0f-99af-2391a5a0e4d9",
   "metadata": {},
   "outputs": [],
   "source": [
    "diff_close = close_values.diff().dropna()"
   ]
  },
  {
   "cell_type": "code",
   "execution_count": 7,
   "id": "f5b16cf4-0e57-410b-b9b7-d7222079d88a",
   "metadata": {},
   "outputs": [
    {
     "data": {
      "text/plain": [
       "Text(0.5, 1.0, 'Histogram')"
      ]
     },
     "execution_count": 7,
     "metadata": {},
     "output_type": "execute_result"
    },
    {
     "data": {
      "image/png": "[encoded data removed]",
      "text/plain": [
       "<Figure size 432x288 with 1 Axes>"
      ]
     },
     "metadata": {
      "needs_background": "light"
     },
     "output_type": "display_data"
    }
   ],
   "source": [
    "hist, bins = np.histogram(diff_close, 100)\n",
    "plt.hist(diff_close, bins)\n",
    "plt.title(\"Histogram\")"
   ]
  },
  {
   "cell_type": "code",
   "execution_count": 8,
   "id": "d722e540-9965-4b9c-90a4-c35a2615e871",
   "metadata": {},
   "outputs": [],
   "source": [
    "diff_close_narrow = diff_close[(diff_close > -300) & (diff_close < 300)]"
   ]
  },
  {
   "cell_type": "code",
   "execution_count": 9,
   "id": "d9ecf5c4-a85e-49e9-9961-d5d258a6b131",
   "metadata": {},
   "outputs": [
    {
     "data": {
      "text/plain": [
       "Text(0.5, 1.0, 'Histogram')"
      ]
     },
     "execution_count": 9,
     "metadata": {},
     "output_type": "execute_result"
    },
    {
     "data": {
      "image/png": "[encoded data removed]",
      "text/plain": [
       "<Figure size 432x288 with 1 Axes>"
      ]
     },
     "metadata": {
      "needs_background": "light"
     },
     "output_type": "display_data"
    }
   ],
   "source": [
    "hist, bins = np.histogram(diff_close_narrow, 100)\n",
    "plt.hist(diff_close_narrow, bins)\n",
    "plt.title(\"Histogram\")"
   ]
  },
  {
   "cell_type": "code",
   "execution_count": 10,
   "id": "5bb329a2-28f3-4e0c-a261-879f0f7cd575",
   "metadata": {},
   "outputs": [
    {
     "name": "stdout",
     "output_type": "stream",
     "text": [
      "p value (norm): 0.0\n",
      "p value (norm): 0.0\n"
     ]
    },
    {
     "name": "stderr",
     "output_type": "stream",
     "text": [
      "/usr/local/lib/python3.9/site-packages/scipy/stats/morestats.py:1760: UserWarning: p-value may not be accurate for N > 5000.\n",
      "  warnings.warn(\"p-value may not be accurate for N > 5000.\")\n"
     ]
    }
   ],
   "source": [
    "# どちらも正規分布でない\n",
    "rlt_diff_close = stats.shapiro(diff_close)\n",
    "rlt_diff_close_narrow = stats.shapiro(diff_close_narrow)\n",
    "print(\"p value (norm):\", round(rlt_diff_close.pvalue, 5))\n",
    "print(\"p value (norm):\", round(rlt_diff_close_narrow.pvalue, 5))"
   ]
  },
  {
   "cell_type": "markdown",
   "id": "93f0d5db-f01d-4199-aaeb-b9f20e683eff",
   "metadata": {},
   "source": [
    "## 1つ前の値との変動率"
   ]
  },
  {
   "cell_type": "code",
   "execution_count": 11,
   "id": "a754754c-7743-4d85-9228-76458a564934",
   "metadata": {},
   "outputs": [],
   "source": [
    "close_pct_change = close_values.pct_change().dropna()"
   ]
  },
  {
   "cell_type": "code",
   "execution_count": 12,
   "id": "6ee7c5b2-7be9-46a4-97fc-7b95c3e744c3",
   "metadata": {},
   "outputs": [
    {
     "data": {
      "text/plain": [
       "Text(0.5, 1.0, 'Histogram')"
      ]
     },
     "execution_count": 12,
     "metadata": {},
     "output_type": "execute_result"
    },
    {
     "data": {
      "image/png": "[encoded data removed]",
      "text/plain": [
       "<Figure size 432x288 with 1 Axes>"
      ]
     },
     "metadata": {
      "needs_background": "light"
     },
     "output_type": "display_data"
    }
   ],
   "source": [
    "hist, bins = np.histogram(close_pct_change, 100)\n",
    "plt.hist(close_pct_change, bins)\n",
    "plt.title(\"Histogram\")"
   ]
  },
  {
   "cell_type": "code",
   "execution_count": 13,
   "id": "2dbb30df-aa31-4fdd-abc2-f701d0e69966",
   "metadata": {},
   "outputs": [],
   "source": [
    "close_pct_change_narrow = close_pct_change[\n",
    "    (close_pct_change > -0.008) & (close_pct_change < 0.008)\n",
    "]"
   ]
  },
  {
   "cell_type": "code",
   "execution_count": 14,
   "id": "b46ba477-efdf-4297-bbd2-88aea5bc4613",
   "metadata": {},
   "outputs": [
    {
     "data": {
      "text/plain": [
       "Text(0.5, 1.0, 'Histogram')"
      ]
     },
     "execution_count": 14,
     "metadata": {},
     "output_type": "execute_result"
    },
    {
     "data": {
      "image/png": "[encoded data removed]",
      "text/plain": [
       "<Figure size 432x288 with 1 Axes>"
      ]
     },
     "metadata": {
      "needs_background": "light"
     },
     "output_type": "display_data"
    }
   ],
   "source": [
    "hist, bins = np.histogram(close_pct_change_narrow, 100)\n",
    "plt.hist(close_pct_change_narrow, bins)\n",
    "plt.title(\"Histogram\")"
   ]
  },
  {
   "cell_type": "code",
   "execution_count": 15,
   "id": "368f9220-b1ed-4ac4-bb58-85e711480b9a",
   "metadata": {},
   "outputs": [
    {
     "name": "stdout",
     "output_type": "stream",
     "text": [
      "p value (norm): 0.0\n",
      "p value (norm): 0.0\n"
     ]
    }
   ],
   "source": [
    "# どちらも正規分布でない\n",
    "rlt_close_pct_change = stats.shapiro(close_pct_change)\n",
    "rlt_close_pct_change_narrow = stats.shapiro(close_pct_change_narrow)\n",
    "print(\"p value (norm):\", round(rlt_close_pct_change.pvalue, 5))\n",
    "print(\"p value (norm):\", round(rlt_close_pct_change_narrow.pvalue, 5))"
   ]
  },
  {
   "cell_type": "markdown",
   "id": "9fd73374-dddc-486c-8c37-587d8d35750c",
   "metadata": {},
   "source": [
    "## 変動率データがべき分布であるか確認"
   ]
  },
  {
   "cell_type": "code",
   "execution_count": 16,
   "id": "ff6d3f1d-9836-4249-a420-e7675da1604d",
   "metadata": {},
   "outputs": [],
   "source": [
    "close_values_pct_change = close_values.pct_change().dropna()\n",
    "power_dist = close_values_pct_change[\n",
    "    (close_values_pct_change >= 0) & (close_values_pct_change <= 0.008)\n",
    "]\n",
    "hist, bins = np.histogram(power_dist, 100)\n",
    "log_hist = [np.log(1) if x == 0 else np.log(x) for x in hist]"
   ]
  },
  {
   "cell_type": "code",
   "execution_count": 17,
   "id": "803ace59-26bc-42a4-8193-5807c940b3d5",
   "metadata": {},
   "outputs": [
    {
     "data": {
      "text/plain": [
       "[<matplotlib.lines.Line2D at 0x7fa980af2850>]"
      ]
     },
     "execution_count": 17,
     "metadata": {},
     "output_type": "execute_result"
    },
    {
     "data": {
      "image/png": "[encoded data removed]",
      "text/plain": [
       "<Figure size 432x288 with 1 Axes>"
      ]
     },
     "metadata": {
      "needs_background": "light"
     },
     "output_type": "display_data"
    }
   ],
   "source": [
    "plt.plot(sorted(log_hist))"
   ]
  }
 ],
 "metadata": {
  "kernelspec": {
   "display_name": "Python 3 (ipykernel)",
   "language": "python",
   "name": "python3"
  },
  "language_info": {
   "codemirror_mode": {
    "name": "ipython",
    "version": 3
   },
   "file_extension": ".py",
   "mimetype": "text/x-python",
   "name": "python",
   "nbconvert_exporter": "python",
   "pygments_lexer": "ipython3",
   "version": "3.9.7"
  }
 },
 "nbformat": 4,
 "nbformat_minor": 5
}
